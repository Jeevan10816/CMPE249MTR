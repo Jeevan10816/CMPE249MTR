{
  "nbformat": 4,
  "nbformat_minor": 0,
  "metadata": {
    "colab": {
      "provenance": []
    },
    "kernelspec": {
      "name": "python3",
      "display_name": "Python 3"
    },
    "language_info": {
      "name": "python"
    }
  },
  "cells": [
    {
      "cell_type": "code",
      "execution_count": null,
      "metadata": {
        "id": "VcY9Qs8S_O02"
      },
      "outputs": [],
      "source": [
        "import tensorflow as tf\n",
        "import numpy as np\n",
        "import os\n",
        "\n",
        "# Path to the Waymo dataset (update as needed)\n",
        "data_path = \"/content/drive/MyDrive/SEM 3/248 Intelligent Autonomous Systems/Project/Data\"\n",
        "\n",
        "# Function to parse the TFRecord files\n",
        "def parse_tfrecord_fn(example):\n",
        "    # Define the features to extract from the Waymo dataset\n",
        "    feature_description = {\n",
        "        'state/id': tf.io.FixedLenFeature([], tf.int64),\n",
        "        'state/type': tf.io.FixedLenFeature([], tf.int64),\n",
        "        'state/current_valid': tf.io.FixedLenFeature([128], tf.int64),\n",
        "        'state/future_valid': tf.io.FixedLenFeature([80], tf.int64),\n",
        "        'state/current_x': tf.io.FixedLenFeature([128], tf.float32),\n",
        "        'state/current_y': tf.io.FixedLenFeature([128], tf.float32),\n",
        "        'state/future_x': tf.io.FixedLenFeature([80], tf.float32),\n",
        "        'state/future_y': tf.io.FixedLenFeature([80], tf.float32),\n",
        "    }\n",
        "    return tf.io.parse_single_example(example, feature_description)\n",
        "\n",
        "# Load the dataset\n",
        "def load_tfrecord_files(tfrecord_files):\n",
        "    dataset = tf.data.TFRecordDataset(tfrecord_files, compression_type='GZIP')\n",
        "    dataset = dataset.map(parse_tfrecord_fn)\n",
        "    return dataset\n",
        "\n",
        "# Function to preprocess the data\n",
        "def preprocess_data(dataset):\n",
        "    for record in dataset:\n",
        "        current_x = record['state/current_x'].numpy()\n",
        "        current_y = record['state/current_y'].numpy()\n",
        "        future_x = record['state/future_x'].numpy()\n",
        "        future_y = record['state/future_y'].numpy()\n",
        "\n",
        "        # Filter valid points\n",
        "        valid_current = record['state/current_valid'].numpy().astype(bool)\n",
        "        valid_future = record['state/future_valid'].numpy().astype(bool)\n",
        "\n",
        "        trajectory_current = np.stack([current_x[valid_current], current_y[valid_current]], axis=-1)\n",
        "        trajectory_future = np.stack([future_x[valid_future], future_y[valid_future]], axis=-1)\n",
        "\n",
        "        print(\"Current Trajectory:\", trajectory_current)\n",
        "        print(\"Future Trajectory:\", trajectory_future)\n",
        "\n",
        "# Example usage\n",
        "if __name__ == \"__main__\":\n",
        "    # List all TFRecord files in the dataset directory\n",
        "    tfrecord_files = [os.path.join(data_path, f) for f in os.listdir(data_path) if f.endswith('.tfrecord')]\n",
        "\n",
        "    # Load and preprocess the dataset\n",
        "    dataset = load_tfrecord_files(tfrecord_files)\n",
        "    preprocess_data(dataset)\n"
      ]
    }
  ]
}