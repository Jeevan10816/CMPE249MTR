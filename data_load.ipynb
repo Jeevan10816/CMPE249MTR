{
  "nbformat": 4,
  "nbformat_minor": 0,
  "metadata": {
    "colab": {
      "provenance": []
    },
    "kernelspec": {
      "name": "python3",
      "display_name": "Python 3"
    },
    "language_info": {
      "name": "python"
    }
  },
  "cells": [
    {
      "cell_type": "markdown",
      "source": [
        "To pull data."
      ],
      "metadata": {
        "id": "1kNbUgBfpdC_"
      }
    },
    {
      "cell_type": "code",
      "execution_count": null,
      "metadata": {
        "colab": {
          "base_uri": "https://localhost:8080/"
        },
        "id": "5RdGa9m4pQqY",
        "outputId": "dae043f5-ba89-4fef-c30c-8dc677907093"
      },
      "outputs": [
        {
          "output_type": "stream",
          "name": "stdout",
          "text": [
            "Mounted at /content/drive\n"
          ]
        }
      ],
      "source": [
        "from google.colab import drive\n",
        "drive.mount('/content/drive')\n"
      ]
    },
    {
      "cell_type": "code",
      "source": [
        "!sudo apt-get install -y google-cloud-sdk\n"
      ],
      "metadata": {
        "colab": {
          "base_uri": "https://localhost:8080/"
        },
        "id": "_RbLrp-YppYb",
        "outputId": "37366baa-4f8d-4d03-966b-d20ed97ded03"
      },
      "execution_count": null,
      "outputs": [
        {
          "output_type": "stream",
          "name": "stdout",
          "text": [
            "Reading package lists... Done\n",
            "Building dependency tree... Done\n",
            "Reading state information... Done\n",
            "E: Unable to locate package google-cloud-sdk\n"
          ]
        }
      ]
    },
    {
      "cell_type": "code",
      "source": [
        "!gcloud auth login\n"
      ],
      "metadata": {
        "colab": {
          "base_uri": "https://localhost:8080/"
        },
        "id": "hfRBgwpHppV2",
        "outputId": "54877201-d893-46ee-cf9c-e7160327f3ef"
      },
      "execution_count": null,
      "outputs": [
        {
          "output_type": "stream",
          "name": "stdout",
          "text": [
            "Go to the following link in your browser, and complete the sign-in prompts:\n",
            "\n",
            "    https://accounts.google.com/o/oauth2/auth?response_type=code&client_id=32555940559.apps.googleusercontent.com&redirect_uri=https%3A%2F%2Fsdk.cloud.google.com%2Fauthcode.html&scope=openid+https%3A%2F%2Fwww.googleapis.com%2Fauth%2Fuserinfo.email+https%3A%2F%2Fwww.googleapis.com%2Fauth%2Fcloud-platform+https%3A%2F%2Fwww.googleapis.com%2Fauth%2Fappengine.admin+https%3A%2F%2Fwww.googleapis.com%2Fauth%2Fsqlservice.login+https%3A%2F%2Fwww.googleapis.com%2Fauth%2Fcompute+https%3A%2F%2Fwww.googleapis.com%2Fauth%2Faccounts.reauth&state=rYRdYgZcXKs43ho8phRwyHY1HuMApp&prompt=consent&token_usage=remote&access_type=offline&code_challenge=1zaa2Fy4RyHA-2f3O9O-E4utFe1e_RsQcna6GPZ9K7U&code_challenge_method=S256\n",
            "\n",
            "Once finished, enter the verification code provided in your browser: 4/0AeanS0aqYnQVSmCtaN6JwdC82tSTmMxwjecMCqtgEKVHeLdo65rTVo_xwsI-jAgFEy3H9g\n",
            "\n",
            "You are now logged in as [justmailjeevan@gmail.com].\n",
            "Your current project is [None].  You can change this setting by running:\n",
            "  $ gcloud config set project PROJECT_ID\n"
          ]
        }
      ]
    },
    {
      "cell_type": "code",
      "source": [
        "TARGET_DIR = '/content/drive/MyDrive/SEM 3/248 Intelligent Autonomous Systems/Project/Data'\n",
        "!mkdir -p $TARGET_DIR\n"
      ],
      "metadata": {
        "id": "E8sG4DQ0ppTf"
      },
      "execution_count": null,
      "outputs": []
    },
    {
      "cell_type": "code",
      "source": [
        "!gsutil -m cp \"gs://waymo_open_dataset_motion_v_1_2_1/uncompressed/scenario/testing/*\" $TARGET_DIR\n"
      ],
      "metadata": {
        "colab": {
          "base_uri": "https://localhost:8080/"
        },
        "id": "_DKGTqf5ppQ9",
        "outputId": "c6187a3b-3502-459f-fa6a-fbf82477ec3d"
      },
      "execution_count": null,
      "outputs": [
        {
          "output_type": "stream",
          "name": "stdout",
          "text": [
            "Copying gs://waymo_open_dataset_motion_v_1_2_1/uncompressed/scenario/testing/testing.tfrecord-00000-of-00150...\n",
            "==> NOTE: You are downloading one or more large file(s), which would\n",
            "run significantly faster if you enabled sliced object downloads. This\n",
            "feature is enabled by default but requires that compiled crcmod be\n",
            "installed (see \"gsutil help crcmod\").\n",
            "\n",
            "/ [0 files][    0.0 B/ 19.7 GiB]                                                \rCopying gs://waymo_open_dataset_motion_v_1_2_1/uncompressed/scenario/testing/testing.tfrecord-00005-of-00150...\n",
            "Copying gs://waymo_open_dataset_motion_v_1_2_1/uncompressed/scenario/testing/testing.tfrecord-00001-of-00150...\n",
            "Omitting directory \"file:///content/drive/MyDrive/SEM\". (Did you mean to do cp -r?)\n",
            "Omitting directory \"file://3/248\". (Did you mean to do cp -r?)\n",
            "Omitting directory \"file://Intelligent\". (Did you mean to do cp -r?)\n",
            "Omitting directory \"file://Autonomous\". (Did you mean to do cp -r?)\n",
            "/ [0 files][    0.0 B/ 19.7 GiB]                                                \r/ [0 files][    0.0 B/ 19.7 GiB]                                                \rCopying gs://waymo_open_dataset_motion_v_1_2_1/uncompressed/scenario/testing/testing.tfrecord-00006-of-00150...\n",
            "/ [0/150 files][    0.0 B/ 29.7 GiB]   0% Done                                  \rCopying gs://waymo_open_dataset_motion_v_1_2_1/uncompressed/scenario/testing/testing.tfrecord-00007-of-00150...\n",
            "/ [0/150 files][    0.0 B/ 29.7 GiB]   0% Done                                  \rCopying gs://waymo_open_dataset_motion_v_1_2_1/uncompressed/scenario/testing/testing.tfrecord-00003-of-00150...\n",
            "/ [0/150 files][    0.0 B/ 29.7 GiB]   0% Done                                  \rCopying gs://waymo_open_dataset_motion_v_1_2_1/uncompressed/scenario/testing/testing.tfrecord-00002-of-00150...\n",
            "/ [0/150 files][    0.0 B/ 29.7 GiB]   0% Done                                  \rCopying gs://waymo_open_dataset_motion_v_1_2_1/uncompressed/scenario/testing/testing.tfrecord-00004-of-00150...\n",
            "/ [0/150 files][    0.0 B/ 29.7 GiB]   0% Done                                  \rCopying gs://waymo_open_dataset_motion_v_1_2_1/uncompressed/scenario/testing/testing.tfrecord-00008-of-00150...\n",
            "Copying gs://waymo_open_dataset_motion_v_1_2_1/uncompressed/scenario/testing/testing.tfrecord-00009-of-00150...\n",
            "Copying gs://waymo_open_dataset_motion_v_1_2_1/uncompressed/scenario/testing/testing.tfrecord-00010-of-00150...\n",
            "Copying gs://waymo_open_dataset_motion_v_1_2_1/uncompressed/scenario/testing/testing.tfrecord-00011-of-00150...\n",
            "Copying gs://waymo_open_dataset_motion_v_1_2_1/uncompressed/scenario/testing/testing.tfrecord-00012-of-00150...\n",
            "Copying gs://waymo_open_dataset_motion_v_1_2_1/uncompressed/scenario/testing/testing.tfrecord-00013-of-00150...\n",
            "Copying gs://waymo_open_dataset_motion_v_1_2_1/uncompressed/scenario/testing/testing.tfrecord-00014-of-00150...\n",
            "Copying gs://waymo_open_dataset_motion_v_1_2_1/uncompressed/scenario/testing/testing.tfrecord-00015-of-00150...\n",
            "Copying gs://waymo_open_dataset_motion_v_1_2_1/uncompressed/scenario/testing/testing.tfrecord-00016-of-00150...\n",
            "Copying gs://waymo_open_dataset_motion_v_1_2_1/uncompressed/scenario/testing/testing.tfrecord-00017-of-00150...\n",
            "Copying gs://waymo_open_dataset_motion_v_1_2_1/uncompressed/scenario/testing/testing.tfrecord-00018-of-00150...\n",
            "Copying gs://waymo_open_dataset_motion_v_1_2_1/uncompressed/scenario/testing/testing.tfrecord-00019-of-00150...\n",
            "Copying gs://waymo_open_dataset_motion_v_1_2_1/uncompressed/scenario/testing/testing.tfrecord-00020-of-00150...\n",
            "Copying gs://waymo_open_dataset_motion_v_1_2_1/uncompressed/scenario/testing/testing.tfrecord-00021-of-00150...\n",
            "Copying gs://waymo_open_dataset_motion_v_1_2_1/uncompressed/scenario/testing/testing.tfrecord-00022-of-00150...\n",
            "Copying gs://waymo_open_dataset_motion_v_1_2_1/uncompressed/scenario/testing/testing.tfrecord-00023-of-00150...\n",
            "Copying gs://waymo_open_dataset_motion_v_1_2_1/uncompressed/scenario/testing/testing.tfrecord-00024-of-00150...\n",
            "Copying gs://waymo_open_dataset_motion_v_1_2_1/uncompressed/scenario/testing/testing.tfrecord-00026-of-00150...\n",
            "Copying gs://waymo_open_dataset_motion_v_1_2_1/uncompressed/scenario/testing/testing.tfrecord-00025-of-00150...\n",
            "Copying gs://waymo_open_dataset_motion_v_1_2_1/uncompressed/scenario/testing/testing.tfrecord-00027-of-00150...\n",
            "Copying gs://waymo_open_dataset_motion_v_1_2_1/uncompressed/scenario/testing/testing.tfrecord-00028-of-00150...\n",
            "Copying gs://waymo_open_dataset_motion_v_1_2_1/uncompressed/scenario/testing/testing.tfrecord-00029-of-00150...\n",
            "Copying gs://waymo_open_dataset_motion_v_1_2_1/uncompressed/scenario/testing/testing.tfrecord-00030-of-00150...\n",
            "Copying gs://waymo_open_dataset_motion_v_1_2_1/uncompressed/scenario/testing/testing.tfrecord-00031-of-00150...\n",
            "Copying gs://waymo_open_dataset_motion_v_1_2_1/uncompressed/scenario/testing/testing.tfrecord-00032-of-00150...\n",
            "Copying gs://waymo_open_dataset_motion_v_1_2_1/uncompressed/scenario/testing/testing.tfrecord-00033-of-00150...\n",
            "Copying gs://waymo_open_dataset_motion_v_1_2_1/uncompressed/scenario/testing/testing.tfrecord-00034-of-00150...\n",
            "Copying gs://waymo_open_dataset_motion_v_1_2_1/uncompressed/scenario/testing/testing.tfrecord-00035-of-00150...\n",
            "Copying gs://waymo_open_dataset_motion_v_1_2_1/uncompressed/scenario/testing/testing.tfrecord-00036-of-00150...\n",
            "Copying gs://waymo_open_dataset_motion_v_1_2_1/uncompressed/scenario/testing/testing.tfrecord-00038-of-00150...\n",
            "Copying gs://waymo_open_dataset_motion_v_1_2_1/uncompressed/scenario/testing/testing.tfrecord-00037-of-00150...\n",
            "Copying gs://waymo_open_dataset_motion_v_1_2_1/uncompressed/scenario/testing/testing.tfrecord-00039-of-00150...\n",
            "Copying gs://waymo_open_dataset_motion_v_1_2_1/uncompressed/scenario/testing/testing.tfrecord-00040-of-00150...\n",
            "Copying gs://waymo_open_dataset_motion_v_1_2_1/uncompressed/scenario/testing/testing.tfrecord-00041-of-00150...\n",
            "Copying gs://waymo_open_dataset_motion_v_1_2_1/uncompressed/scenario/testing/testing.tfrecord-00042-of-00150...\n",
            "Copying gs://waymo_open_dataset_motion_v_1_2_1/uncompressed/scenario/testing/testing.tfrecord-00043-of-00150...\n",
            "Copying gs://waymo_open_dataset_motion_v_1_2_1/uncompressed/scenario/testing/testing.tfrecord-00044-of-00150...\n",
            "Copying gs://waymo_open_dataset_motion_v_1_2_1/uncompressed/scenario/testing/testing.tfrecord-00045-of-00150...\n",
            "Copying gs://waymo_open_dataset_motion_v_1_2_1/uncompressed/scenario/testing/testing.tfrecord-00046-of-00150...\n",
            "Copying gs://waymo_open_dataset_motion_v_1_2_1/uncompressed/scenario/testing/testing.tfrecord-00047-of-00150...\n",
            "Copying gs://waymo_open_dataset_motion_v_1_2_1/uncompressed/scenario/testing/testing.tfrecord-00048-of-00150...\n",
            "Copying gs://waymo_open_dataset_motion_v_1_2_1/uncompressed/scenario/testing/testing.tfrecord-00049-of-00150...\n",
            "Copying gs://waymo_open_dataset_motion_v_1_2_1/uncompressed/scenario/testing/testing.tfrecord-00050-of-00150...\n",
            "Copying gs://waymo_open_dataset_motion_v_1_2_1/uncompressed/scenario/testing/testing.tfrecord-00051-of-00150...\n",
            "Copying gs://waymo_open_dataset_motion_v_1_2_1/uncompressed/scenario/testing/testing.tfrecord-00052-of-00150...\n",
            "Copying gs://waymo_open_dataset_motion_v_1_2_1/uncompressed/scenario/testing/testing.tfrecord-00053-of-00150...\n",
            "Copying gs://waymo_open_dataset_motion_v_1_2_1/uncompressed/scenario/testing/testing.tfrecord-00054-of-00150...\n",
            "Copying gs://waymo_open_dataset_motion_v_1_2_1/uncompressed/scenario/testing/testing.tfrecord-00055-of-00150...\n",
            "Copying gs://waymo_open_dataset_motion_v_1_2_1/uncompressed/scenario/testing/testing.tfrecord-00056-of-00150...\n",
            "Copying gs://waymo_open_dataset_motion_v_1_2_1/uncompressed/scenario/testing/testing.tfrecord-00057-of-00150...\n",
            "Copying gs://waymo_open_dataset_motion_v_1_2_1/uncompressed/scenario/testing/testing.tfrecord-00058-of-00150...\n",
            "Copying gs://waymo_open_dataset_motion_v_1_2_1/uncompressed/scenario/testing/testing.tfrecord-00059-of-00150...\n",
            "Copying gs://waymo_open_dataset_motion_v_1_2_1/uncompressed/scenario/testing/testing.tfrecord-00060-of-00150...\n",
            "Copying gs://waymo_open_dataset_motion_v_1_2_1/uncompressed/scenario/testing/testing.tfrecord-00061-of-00150...\n",
            "Copying gs://waymo_open_dataset_motion_v_1_2_1/uncompressed/scenario/testing/testing.tfrecord-00063-of-00150...\n",
            "Copying gs://waymo_open_dataset_motion_v_1_2_1/uncompressed/scenario/testing/testing.tfrecord-00062-of-00150...\n",
            "Copying gs://waymo_open_dataset_motion_v_1_2_1/uncompressed/scenario/testing/testing.tfrecord-00064-of-00150...\n",
            "Copying gs://waymo_open_dataset_motion_v_1_2_1/uncompressed/scenario/testing/testing.tfrecord-00065-of-00150...\n",
            "Copying gs://waymo_open_dataset_motion_v_1_2_1/uncompressed/scenario/testing/testing.tfrecord-00066-of-00150...\n",
            "Copying gs://waymo_open_dataset_motion_v_1_2_1/uncompressed/scenario/testing/testing.tfrecord-00067-of-00150...\n",
            "Copying gs://waymo_open_dataset_motion_v_1_2_1/uncompressed/scenario/testing/testing.tfrecord-00068-of-00150...\n",
            "Copying gs://waymo_open_dataset_motion_v_1_2_1/uncompressed/scenario/testing/testing.tfrecord-00069-of-00150...\n",
            "Copying gs://waymo_open_dataset_motion_v_1_2_1/uncompressed/scenario/testing/testing.tfrecord-00070-of-00150...\n",
            "Copying gs://waymo_open_dataset_motion_v_1_2_1/uncompressed/scenario/testing/testing.tfrecord-00071-of-00150...\n",
            "Copying gs://waymo_open_dataset_motion_v_1_2_1/uncompressed/scenario/testing/testing.tfrecord-00072-of-00150...\n",
            "Copying gs://waymo_open_dataset_motion_v_1_2_1/uncompressed/scenario/testing/testing.tfrecord-00073-of-00150...\n",
            "Copying gs://waymo_open_dataset_motion_v_1_2_1/uncompressed/scenario/testing/testing.tfrecord-00074-of-00150...\n",
            "Copying gs://waymo_open_dataset_motion_v_1_2_1/uncompressed/scenario/testing/testing.tfrecord-00075-of-00150...\n",
            "Copying gs://waymo_open_dataset_motion_v_1_2_1/uncompressed/scenario/testing/testing.tfrecord-00076-of-00150...\n",
            "Copying gs://waymo_open_dataset_motion_v_1_2_1/uncompressed/scenario/testing/testing.tfrecord-00077-of-00150...\n",
            "Copying gs://waymo_open_dataset_motion_v_1_2_1/uncompressed/scenario/testing/testing.tfrecord-00078-of-00150...\n",
            "Copying gs://waymo_open_dataset_motion_v_1_2_1/uncompressed/scenario/testing/testing.tfrecord-00079-of-00150...\n",
            "Copying gs://waymo_open_dataset_motion_v_1_2_1/uncompressed/scenario/testing/testing.tfrecord-00080-of-00150...\n",
            "Copying gs://waymo_open_dataset_motion_v_1_2_1/uncompressed/scenario/testing/testing.tfrecord-00081-of-00150...\n",
            "Copying gs://waymo_open_dataset_motion_v_1_2_1/uncompressed/scenario/testing/testing.tfrecord-00082-of-00150...\n",
            "Copying gs://waymo_open_dataset_motion_v_1_2_1/uncompressed/scenario/testing/testing.tfrecord-00083-of-00150...\n",
            "Copying gs://waymo_open_dataset_motion_v_1_2_1/uncompressed/scenario/testing/testing.tfrecord-00084-of-00150...\n",
            "Copying gs://waymo_open_dataset_motion_v_1_2_1/uncompressed/scenario/testing/testing.tfrecord-00085-of-00150...\n",
            "Copying gs://waymo_open_dataset_motion_v_1_2_1/uncompressed/scenario/testing/testing.tfrecord-00086-of-00150...\n",
            "Copying gs://waymo_open_dataset_motion_v_1_2_1/uncompressed/scenario/testing/testing.tfrecord-00087-of-00150...\n",
            "Copying gs://waymo_open_dataset_motion_v_1_2_1/uncompressed/scenario/testing/testing.tfrecord-00088-of-00150...\n",
            "Copying gs://waymo_open_dataset_motion_v_1_2_1/uncompressed/scenario/testing/testing.tfrecord-00089-of-00150...\n",
            "Copying gs://waymo_open_dataset_motion_v_1_2_1/uncompressed/scenario/testing/testing.tfrecord-00090-of-00150...\n",
            "Copying gs://waymo_open_dataset_motion_v_1_2_1/uncompressed/scenario/testing/testing.tfrecord-00091-of-00150...\n",
            "Copying gs://waymo_open_dataset_motion_v_1_2_1/uncompressed/scenario/testing/testing.tfrecord-00092-of-00150...\n",
            "Copying gs://waymo_open_dataset_motion_v_1_2_1/uncompressed/scenario/testing/testing.tfrecord-00093-of-00150...\n",
            "Copying gs://waymo_open_dataset_motion_v_1_2_1/uncompressed/scenario/testing/testing.tfrecord-00094-of-00150...\n",
            "Copying gs://waymo_open_dataset_motion_v_1_2_1/uncompressed/scenario/testing/testing.tfrecord-00095-of-00150...\n",
            "Copying gs://waymo_open_dataset_motion_v_1_2_1/uncompressed/scenario/testing/testing.tfrecord-00096-of-00150...\n",
            "Copying gs://waymo_open_dataset_motion_v_1_2_1/uncompressed/scenario/testing/testing.tfrecord-00097-of-00150...\n",
            "Copying gs://waymo_open_dataset_motion_v_1_2_1/uncompressed/scenario/testing/testing.tfrecord-00098-of-00150...\n",
            "Copying gs://waymo_open_dataset_motion_v_1_2_1/uncompressed/scenario/testing/testing.tfrecord-00099-of-00150...\n",
            "Copying gs://waymo_open_dataset_motion_v_1_2_1/uncompressed/scenario/testing/testing.tfrecord-00100-of-00150...\n",
            "Copying gs://waymo_open_dataset_motion_v_1_2_1/uncompressed/scenario/testing/testing.tfrecord-00101-of-00150...\n",
            "Copying gs://waymo_open_dataset_motion_v_1_2_1/uncompressed/scenario/testing/testing.tfrecord-00102-of-00150...\n",
            "Copying gs://waymo_open_dataset_motion_v_1_2_1/uncompressed/scenario/testing/testing.tfrecord-00103-of-00150...\n",
            "Copying gs://waymo_open_dataset_motion_v_1_2_1/uncompressed/scenario/testing/testing.tfrecord-00104-of-00150...\n",
            "Copying gs://waymo_open_dataset_motion_v_1_2_1/uncompressed/scenario/testing/testing.tfrecord-00105-of-00150...\n",
            "Copying gs://waymo_open_dataset_motion_v_1_2_1/uncompressed/scenario/testing/testing.tfrecord-00106-of-00150...\n",
            "Copying gs://waymo_open_dataset_motion_v_1_2_1/uncompressed/scenario/testing/testing.tfrecord-00107-of-00150...\n",
            "Copying gs://waymo_open_dataset_motion_v_1_2_1/uncompressed/scenario/testing/testing.tfrecord-00108-of-00150...\n",
            "Copying gs://waymo_open_dataset_motion_v_1_2_1/uncompressed/scenario/testing/testing.tfrecord-00109-of-00150...\n",
            "Copying gs://waymo_open_dataset_motion_v_1_2_1/uncompressed/scenario/testing/testing.tfrecord-00110-of-00150...\n",
            "Copying gs://waymo_open_dataset_motion_v_1_2_1/uncompressed/scenario/testing/testing.tfrecord-00111-of-00150...\n",
            "Copying gs://waymo_open_dataset_motion_v_1_2_1/uncompressed/scenario/testing/testing.tfrecord-00112-of-00150...\n",
            "Copying gs://waymo_open_dataset_motion_v_1_2_1/uncompressed/scenario/testing/testing.tfrecord-00113-of-00150...\n",
            "Copying gs://waymo_open_dataset_motion_v_1_2_1/uncompressed/scenario/testing/testing.tfrecord-00114-of-00150...\n",
            "Copying gs://waymo_open_dataset_motion_v_1_2_1/uncompressed/scenario/testing/testing.tfrecord-00115-of-00150...\n",
            "Copying gs://waymo_open_dataset_motion_v_1_2_1/uncompressed/scenario/testing/testing.tfrecord-00116-of-00150...\n",
            "Copying gs://waymo_open_dataset_motion_v_1_2_1/uncompressed/scenario/testing/testing.tfrecord-00117-of-00150...\n",
            "Copying gs://waymo_open_dataset_motion_v_1_2_1/uncompressed/scenario/testing/testing.tfrecord-00118-of-00150...\n",
            "Copying gs://waymo_open_dataset_motion_v_1_2_1/uncompressed/scenario/testing/testing.tfrecord-00119-of-00150...\n",
            "Copying gs://waymo_open_dataset_motion_v_1_2_1/uncompressed/scenario/testing/testing.tfrecord-00120-of-00150...\n",
            "Copying gs://waymo_open_dataset_motion_v_1_2_1/uncompressed/scenario/testing/testing.tfrecord-00121-of-00150...\n",
            "Copying gs://waymo_open_dataset_motion_v_1_2_1/uncompressed/scenario/testing/testing.tfrecord-00122-of-00150...\n",
            "Copying gs://waymo_open_dataset_motion_v_1_2_1/uncompressed/scenario/testing/testing.tfrecord-00123-of-00150...\n",
            "Copying gs://waymo_open_dataset_motion_v_1_2_1/uncompressed/scenario/testing/testing.tfrecord-00124-of-00150...\n",
            "Copying gs://waymo_open_dataset_motion_v_1_2_1/uncompressed/scenario/testing/testing.tfrecord-00125-of-00150...\n",
            "Copying gs://waymo_open_dataset_motion_v_1_2_1/uncompressed/scenario/testing/testing.tfrecord-00126-of-00150...\n",
            "Copying gs://waymo_open_dataset_motion_v_1_2_1/uncompressed/scenario/testing/testing.tfrecord-00127-of-00150...\n",
            "Copying gs://waymo_open_dataset_motion_v_1_2_1/uncompressed/scenario/testing/testing.tfrecord-00128-of-00150...\n",
            "Copying gs://waymo_open_dataset_motion_v_1_2_1/uncompressed/scenario/testing/testing.tfrecord-00129-of-00150...\n",
            "Copying gs://waymo_open_dataset_motion_v_1_2_1/uncompressed/scenario/testing/testing.tfrecord-00130-of-00150...\n",
            "Copying gs://waymo_open_dataset_motion_v_1_2_1/uncompressed/scenario/testing/testing.tfrecord-00131-of-00150...\n",
            "Copying gs://waymo_open_dataset_motion_v_1_2_1/uncompressed/scenario/testing/testing.tfrecord-00132-of-00150...\n",
            "Copying gs://waymo_open_dataset_motion_v_1_2_1/uncompressed/scenario/testing/testing.tfrecord-00133-of-00150...\n",
            "Copying gs://waymo_open_dataset_motion_v_1_2_1/uncompressed/scenario/testing/testing.tfrecord-00134-of-00150...\n",
            "Copying gs://waymo_open_dataset_motion_v_1_2_1/uncompressed/scenario/testing/testing.tfrecord-00135-of-00150...\n",
            "Copying gs://waymo_open_dataset_motion_v_1_2_1/uncompressed/scenario/testing/testing.tfrecord-00136-of-00150...\n",
            "Copying gs://waymo_open_dataset_motion_v_1_2_1/uncompressed/scenario/testing/testing.tfrecord-00137-of-00150...\n",
            "Copying gs://waymo_open_dataset_motion_v_1_2_1/uncompressed/scenario/testing/testing.tfrecord-00138-of-00150...\n",
            "Copying gs://waymo_open_dataset_motion_v_1_2_1/uncompressed/scenario/testing/testing.tfrecord-00139-of-00150...\n",
            "Copying gs://waymo_open_dataset_motion_v_1_2_1/uncompressed/scenario/testing/testing.tfrecord-00140-of-00150...\n",
            "Copying gs://waymo_open_dataset_motion_v_1_2_1/uncompressed/scenario/testing/testing.tfrecord-00141-of-00150...\n",
            "Copying gs://waymo_open_dataset_motion_v_1_2_1/uncompressed/scenario/testing/testing.tfrecord-00142-of-00150...\n",
            "Copying gs://waymo_open_dataset_motion_v_1_2_1/uncompressed/scenario/testing/testing.tfrecord-00143-of-00150...\n",
            "Copying gs://waymo_open_dataset_motion_v_1_2_1/uncompressed/scenario/testing/testing.tfrecord-00144-of-00150...\n",
            "Copying gs://waymo_open_dataset_motion_v_1_2_1/uncompressed/scenario/testing/testing.tfrecord-00145-of-00150...\n",
            "Copying gs://waymo_open_dataset_motion_v_1_2_1/uncompressed/scenario/testing/testing.tfrecord-00146-of-00150...\n",
            "Copying gs://waymo_open_dataset_motion_v_1_2_1/uncompressed/scenario/testing/testing.tfrecord-00147-of-00150...\n",
            "Copying gs://waymo_open_dataset_motion_v_1_2_1/uncompressed/scenario/testing/testing.tfrecord-00148-of-00150...\n",
            "Copying gs://waymo_open_dataset_motion_v_1_2_1/uncompressed/scenario/testing/testing.tfrecord-00149-of-00150...\n",
            "| [150/150 files][ 29.7 GiB/ 29.7 GiB] 100% Done  94.7 MiB/s ETA 00:00:00       \n",
            "Operation completed over 150 objects/29.7 GiB.                                   \n"
          ]
        }
      ]
    },
    {
      "cell_type": "code",
      "source": [
        "!ls $TARGET_DIR\n"
      ],
      "metadata": {
        "colab": {
          "base_uri": "https://localhost:8080/"
        },
        "id": "AW3qERdDppN4",
        "outputId": "a9afa6d1-3727-4e59-d572-27787648d3e8"
      },
      "execution_count": null,
      "outputs": [
        {
          "output_type": "stream",
          "name": "stdout",
          "text": [
            "3/248:\n",
            "\n",
            "Autonomous:\n",
            "\n",
            "/content/drive/MyDrive/SEM:\n",
            "\n",
            "Intelligent:\n",
            "\n",
            "Systems/Project/Data:\n",
            "testing.tfrecord-00000-of-00150  testing.tfrecord-00050-of-00150  testing.tfrecord-00100-of-00150\n",
            "testing.tfrecord-00001-of-00150  testing.tfrecord-00051-of-00150  testing.tfrecord-00101-of-00150\n",
            "testing.tfrecord-00002-of-00150  testing.tfrecord-00052-of-00150  testing.tfrecord-00102-of-00150\n",
            "testing.tfrecord-00003-of-00150  testing.tfrecord-00053-of-00150  testing.tfrecord-00103-of-00150\n",
            "testing.tfrecord-00004-of-00150  testing.tfrecord-00054-of-00150  testing.tfrecord-00104-of-00150\n",
            "testing.tfrecord-00005-of-00150  testing.tfrecord-00055-of-00150  testing.tfrecord-00105-of-00150\n",
            "testing.tfrecord-00006-of-00150  testing.tfrecord-00056-of-00150  testing.tfrecord-00106-of-00150\n",
            "testing.tfrecord-00007-of-00150  testing.tfrecord-00057-of-00150  testing.tfrecord-00107-of-00150\n",
            "testing.tfrecord-00008-of-00150  testing.tfrecord-00058-of-00150  testing.tfrecord-00108-of-00150\n",
            "testing.tfrecord-00009-of-00150  testing.tfrecord-00059-of-00150  testing.tfrecord-00109-of-00150\n",
            "testing.tfrecord-00010-of-00150  testing.tfrecord-00060-of-00150  testing.tfrecord-00110-of-00150\n",
            "testing.tfrecord-00011-of-00150  testing.tfrecord-00061-of-00150  testing.tfrecord-00111-of-00150\n",
            "testing.tfrecord-00012-of-00150  testing.tfrecord-00062-of-00150  testing.tfrecord-00112-of-00150\n",
            "testing.tfrecord-00013-of-00150  testing.tfrecord-00063-of-00150  testing.tfrecord-00113-of-00150\n",
            "testing.tfrecord-00014-of-00150  testing.tfrecord-00064-of-00150  testing.tfrecord-00114-of-00150\n",
            "testing.tfrecord-00015-of-00150  testing.tfrecord-00065-of-00150  testing.tfrecord-00115-of-00150\n",
            "testing.tfrecord-00016-of-00150  testing.tfrecord-00066-of-00150  testing.tfrecord-00116-of-00150\n",
            "testing.tfrecord-00017-of-00150  testing.tfrecord-00067-of-00150  testing.tfrecord-00117-of-00150\n",
            "testing.tfrecord-00018-of-00150  testing.tfrecord-00068-of-00150  testing.tfrecord-00118-of-00150\n",
            "testing.tfrecord-00019-of-00150  testing.tfrecord-00069-of-00150  testing.tfrecord-00119-of-00150\n",
            "testing.tfrecord-00020-of-00150  testing.tfrecord-00070-of-00150  testing.tfrecord-00120-of-00150\n",
            "testing.tfrecord-00021-of-00150  testing.tfrecord-00071-of-00150  testing.tfrecord-00121-of-00150\n",
            "testing.tfrecord-00022-of-00150  testing.tfrecord-00072-of-00150  testing.tfrecord-00122-of-00150\n",
            "testing.tfrecord-00023-of-00150  testing.tfrecord-00073-of-00150  testing.tfrecord-00123-of-00150\n",
            "testing.tfrecord-00024-of-00150  testing.tfrecord-00074-of-00150  testing.tfrecord-00124-of-00150\n",
            "testing.tfrecord-00025-of-00150  testing.tfrecord-00075-of-00150  testing.tfrecord-00125-of-00150\n",
            "testing.tfrecord-00026-of-00150  testing.tfrecord-00076-of-00150  testing.tfrecord-00126-of-00150\n",
            "testing.tfrecord-00027-of-00150  testing.tfrecord-00077-of-00150  testing.tfrecord-00127-of-00150\n",
            "testing.tfrecord-00028-of-00150  testing.tfrecord-00078-of-00150  testing.tfrecord-00128-of-00150\n",
            "testing.tfrecord-00029-of-00150  testing.tfrecord-00079-of-00150  testing.tfrecord-00129-of-00150\n",
            "testing.tfrecord-00030-of-00150  testing.tfrecord-00080-of-00150  testing.tfrecord-00130-of-00150\n",
            "testing.tfrecord-00031-of-00150  testing.tfrecord-00081-of-00150  testing.tfrecord-00131-of-00150\n",
            "testing.tfrecord-00032-of-00150  testing.tfrecord-00082-of-00150  testing.tfrecord-00132-of-00150\n",
            "testing.tfrecord-00033-of-00150  testing.tfrecord-00083-of-00150  testing.tfrecord-00133-of-00150\n",
            "testing.tfrecord-00034-of-00150  testing.tfrecord-00084-of-00150  testing.tfrecord-00134-of-00150\n",
            "testing.tfrecord-00035-of-00150  testing.tfrecord-00085-of-00150  testing.tfrecord-00135-of-00150\n",
            "testing.tfrecord-00036-of-00150  testing.tfrecord-00086-of-00150  testing.tfrecord-00136-of-00150\n",
            "testing.tfrecord-00037-of-00150  testing.tfrecord-00087-of-00150  testing.tfrecord-00137-of-00150\n",
            "testing.tfrecord-00038-of-00150  testing.tfrecord-00088-of-00150  testing.tfrecord-00138-of-00150\n",
            "testing.tfrecord-00039-of-00150  testing.tfrecord-00089-of-00150  testing.tfrecord-00139-of-00150\n",
            "testing.tfrecord-00040-of-00150  testing.tfrecord-00090-of-00150  testing.tfrecord-00140-of-00150\n",
            "testing.tfrecord-00041-of-00150  testing.tfrecord-00091-of-00150  testing.tfrecord-00141-of-00150\n",
            "testing.tfrecord-00042-of-00150  testing.tfrecord-00092-of-00150  testing.tfrecord-00142-of-00150\n",
            "testing.tfrecord-00043-of-00150  testing.tfrecord-00093-of-00150  testing.tfrecord-00143-of-00150\n",
            "testing.tfrecord-00044-of-00150  testing.tfrecord-00094-of-00150  testing.tfrecord-00144-of-00150\n",
            "testing.tfrecord-00045-of-00150  testing.tfrecord-00095-of-00150  testing.tfrecord-00145-of-00150\n",
            "testing.tfrecord-00046-of-00150  testing.tfrecord-00096-of-00150  testing.tfrecord-00146-of-00150\n",
            "testing.tfrecord-00047-of-00150  testing.tfrecord-00097-of-00150  testing.tfrecord-00147-of-00150\n",
            "testing.tfrecord-00048-of-00150  testing.tfrecord-00098-of-00150  testing.tfrecord-00148-of-00150\n",
            "testing.tfrecord-00049-of-00150  testing.tfrecord-00099-of-00150  testing.tfrecord-00149-of-00150\n"
          ]
        }
      ]
    }
  ]
}